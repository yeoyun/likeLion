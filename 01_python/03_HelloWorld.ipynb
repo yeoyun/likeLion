{
 "cells": [
  {
   "cell_type": "code",
   "execution_count": 1,
   "id": "b02ae5b5-b36f-4834-831f-55fb63939eef",
   "metadata": {},
   "outputs": [
    {
     "name": "stdout",
     "output_type": "stream",
     "text": [
      "30\n",
      "Hello World!!!!\n"
     ]
    }
   ],
   "source": [
    "a1 = 10 + 20\n",
    "print(a1)\n",
    "print('Hello World!!!!')"
   ]
  },
  {
   "cell_type": "code",
   "execution_count": null,
   "id": "ed3858d3-71ad-4f03-b58c-1fd71934baf8",
   "metadata": {},
   "outputs": [],
   "source": []
  }
 ],
 "metadata": {
  "kernelspec": {
   "display_name": "Python [conda env:base] *",
   "language": "python",
   "name": "conda-base-py"
  },
  "language_info": {
   "codemirror_mode": {
    "name": "ipython",
    "version": 3
   },
   "file_extension": ".py",
   "mimetype": "text/x-python",
   "name": "python",
   "nbconvert_exporter": "python",
   "pygments_lexer": "ipython3",
   "version": "3.12.7"
  }
 },
 "nbformat": 4,
 "nbformat_minor": 5
}
