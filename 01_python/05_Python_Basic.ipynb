{
 "cells": [
  {
   "cell_type": "markdown",
   "id": "e5f9ff54-ba03-42f6-a102-da3f58687e48",
   "metadata": {},
   "source": [
    "# 주석\n",
    "- 프로그램 코드 실행 시 건너뛰는 부분을 의미한다.\n",
    "- 앞에 (#)을 붙여주면 그 라인은 주석처리됨.\n",
    "- 보통 설명을 작성하거나, 실행하고 싶지 않은 코드가 있을 경우 사용."
   ]
  },
  {
   "cell_type": "code",
   "execution_count": 2,
   "id": "efc2e03b-0d90-43bf-b19f-6939738c04ee",
   "metadata": {},
   "outputs": [
    {
     "name": "stdout",
     "output_type": "stream",
     "text": [
      "30\n"
     ]
    }
   ],
   "source": [
    "# 이 부분은 주석입니다.\n",
    "# 실행할 때 건너뛰는 부분입니다.\n",
    "a1 = 10 + 20\n",
    "print(a1)\n",
    "\n",
    "# 여러 줄을 선택 후 ctrl+/ 시 한번에 주석처리 가능"
   ]
  },
  {
   "cell_type": "code",
   "execution_count": 3,
   "id": "8e921003-ded2-4f1b-8709-07de27672af0",
   "metadata": {},
   "outputs": [],
   "source": [
    "#파이썬에서는 기본적으로 한줄 주석만 지원\n",
    "'''\n",
    "문자열 처리가 되어있으므로 (메모리에 존재)\n",
    "만약에 이 부분이 제일 마지막에 있다면\n",
    "실행결과에 출력되며, prompt에서도 입력시 출력됨\n",
    "'''\n",
    "a1=10+20\n",
    "print(a1)"
   ]
  },
  {
   "cell_type": "markdown",
   "id": "0d2ebfc9-31ef-49a2-9ab1-dff57684c903",
   "metadata": {},
   "source": [
    "# 출력\n",
    "- print() : ( ) 안에 출력하고자 하는 것을 넣어주면 출력을 하고 밑으로 내려준다 (tab) ."
   ]
  },
  {
   "cell_type": "code",
   "execution_count": 8,
   "id": "c0c09a01-06ff-4ce8-8b5f-af4ae5ac3b81",
   "metadata": {},
   "outputs": [
    {
     "name": "stdout",
     "output_type": "stream",
     "text": [
      "100\n",
      "11.11\n"
     ]
    }
   ],
   "source": [
    "print(100)\n",
    "print(11.11)"
   ]
  },
  {
   "cell_type": "code",
   "execution_count": 13,
   "id": "19664b77-0706-479a-a8db-473a817272dc",
   "metadata": {},
   "outputs": [
    {
     "name": "stdout",
     "output_type": "stream",
     "text": [
      "100 200 300\n"
     ]
    }
   ],
   "source": [
    "# 쉼표로 구분하여 여러 개를 작성해주면 띄어쓰기를 하여 출력해준다.\n",
    "print(100,200,300)"
   ]
  },
  {
   "cell_type": "code",
   "execution_count": null,
   "id": "04a39b5e-ca84-46a3-b989-b9503eaa1f53",
   "metadata": {},
   "outputs": [],
   "source": []
  }
 ],
 "metadata": {
  "kernelspec": {
   "display_name": "Python [conda env:base] *",
   "language": "python",
   "name": "conda-base-py"
  },
  "language_info": {
   "codemirror_mode": {
    "name": "ipython",
    "version": 3
   },
   "file_extension": ".py",
   "mimetype": "text/x-python",
   "name": "python",
   "nbconvert_exporter": "python",
   "pygments_lexer": "ipython3",
   "version": "3.12.7"
  }
 },
 "nbformat": 4,
 "nbformat_minor": 5
}
